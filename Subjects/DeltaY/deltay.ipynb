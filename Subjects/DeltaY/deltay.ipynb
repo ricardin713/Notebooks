{
 "cells": [
  {
   "cell_type": "markdown",
   "id": "ef266a3e-17f7-45f2-a65a-8382d1533571",
   "metadata": {},
   "source": [
    "# <u> Delta Wye bridge networks </u>"
   ]
  },
  {
   "cell_type": "markdown",
   "id": "e39667d5-cebd-4c54-a69b-a16b5a8cb0cd",
   "metadata": {},
   "source": [
    "Bridge networks are often introduced when talking about rectification. \n",
    "![Common bridge schematics](./images/common_bridges.png)"
   ]
  },
  {
   "cell_type": "markdown",
   "id": "25d793bd-513e-46bb-87c2-af0b29da3a71",
   "metadata": {},
   "source": [
    "![Delta Y T and Pi](.\\images\\deltaypit.png)"
   ]
  },
  {
   "cell_type": "markdown",
   "id": "8ad3d05d-3c74-4743-b221-5214d063f60d",
   "metadata": {},
   "source": [
    "If we superimpose a delta onto a T or Y we can get an equiavalent model and substitute appropriate values in order to simplify an existing circuit.\n",
    "![Super imposing](.\\images\\deltaysuperimpose.png)\n"
   ]
  },
  {
   "cell_type": "markdown",
   "id": "878d97a7-08bd-47f6-8ab4-cd346c5ba32c",
   "metadata": {},
   "source": [
    "### Conversions\n",
    "* <u>Y or T</u> - To get the values for a resistor in a Y or T take the product of the adjacent branch and divide it by the sum of the delta resistors i.e; $R_1=\\frac{R_CR_B}{R_A+R_B+R_C}$\n",
    "* Delta or Pi - To get the value for a delta resistor, take the sum of all the possible products of the T or Y and divide it by resistor directly across from it i.e $R_C=\\frac{R_1R_2+R_1R_3+R_2R_3}{R_3}$\n",
    "\n",
    "### Formulas:\n",
    "<u>Y - T</u> <br>\n",
    "$R_1=\\frac{R_BR_C}{R_A+R_B+R_C}$ <br>\n",
    "$R_2=\\frac{R_AR_C}{R_A+R_B+R_C}$ <br>\n",
    "$R_3=\\frac{R_AR_B}{R_A+R_B+R_C}$ <br>\n",
    "<u>Delta - Pi</u> <br>\n",
    "$R_A=\\frac{R_1R_2+R_1R_3+R_2R_3}{R_1}$ <br>\n",
    "$R_B=\\frac{R_1R_2+R_1R_3+R_2R_3}{R_2}$ <br>\n",
    "$R_C=\\frac{R_1R_2+R_1R_3+R_2R_3}{R_3}$ <br>"
   ]
  },
  {
   "cell_type": "code",
   "execution_count": 3,
   "id": "fe81d254-18bd-4c95-a2ff-33fe4becb955",
   "metadata": {},
   "outputs": [],
   "source": [
    "def delta2wye(A:float, B:float, C:float) -> tuple[float, float, float]:\n",
    "    '''\n",
    "    Returns a 3-tuple where the values represent (R1, R2, R3)\n",
    "    in a Delta to wye conversion.\n",
    "    '''\n",
    "    denom: float = A + B + C\n",
    "    return (A*B/denom, A*C/denom, B*C/denom)\n",
    "\n",
    "def wye2delta(_1:float, _2:float , _3:float) -> tuple[float, float, float]:\n",
    "    '''\n",
    "    Returns a 3-tuple where the values represent the (RA, RB, RC)\n",
    "    resistors in a wye to delta conversion.\n",
    "    '''\n",
    "    num: float = _1*_2 + _1*_3 + _2*_3\n",
    "    return (num/_1, num/_2, num/_3)\n",
    "    "
   ]
  },
  {
   "cell_type": "code",
   "execution_count": null,
   "id": "1e6ea2d9-656f-4ca7-b804-f681a0b602b8",
   "metadata": {},
   "outputs": [],
   "source": []
  },
  {
   "cell_type": "code",
   "execution_count": null,
   "id": "e13932c3-d29e-4e4b-a3e8-b070de66e247",
   "metadata": {},
   "outputs": [],
   "source": []
  }
 ],
 "metadata": {
  "kernelspec": {
   "display_name": "Python 3 (ipykernel)",
   "language": "python",
   "name": "python3"
  },
  "language_info": {
   "codemirror_mode": {
    "name": "ipython",
    "version": 3
   },
   "file_extension": ".py",
   "mimetype": "text/x-python",
   "name": "python",
   "nbconvert_exporter": "python",
   "pygments_lexer": "ipython3",
   "version": "3.13.5"
  }
 },
 "nbformat": 4,
 "nbformat_minor": 5
}
